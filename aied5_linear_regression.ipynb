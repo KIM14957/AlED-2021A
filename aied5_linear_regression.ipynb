{
  "nbformat": 4,
  "nbformat_minor": 0,
  "metadata": {
    "colab": {
      "name": "aied5_linear regression.ipynb",
      "private_outputs": true,
      "provenance": [],
      "collapsed_sections": [],
      "mount_file_id": "1VzD3FqpuHaQMlfDkW0KOsfu2OFu-fBG1",
      "authorship_tag": "ABX9TyMuOOtfxRTctijZppre8zUt",
      "include_colab_link": true
    },
    "kernelspec": {
      "name": "python3",
      "display_name": "Python 3"
    },
    "language_info": {
      "name": "python"
    }
  },
  "cells": [
    {
      "cell_type": "markdown",
      "metadata": {
        "id": "view-in-github",
        "colab_type": "text"
      },
      "source": [
        "<a href=\"https://colab.research.google.com/github/KIM14957/AlEduTech2021-1/blob/main/aied5_linear_regression.ipynb\" target=\"_parent\"><img src=\"https://colab.research.google.com/assets/colab-badge.svg\" alt=\"Open In Colab\"/></a>"
      ]
    },
    {
      "cell_type": "code",
      "metadata": {
        "id": "YN1kNNVyN224"
      },
      "source": [
        "import pandas as pd\n",
        "\n",
        "df=pd.read_csv(\"/content/drive/MyDrive/housing.csv\", delim_whitespace=True,header=None)\n",
        "\n",
        "print(df.info())"
      ],
      "execution_count": null,
      "outputs": []
    },
    {
      "cell_type": "code",
      "metadata": {
        "id": "Y1kS8hGIU2Ct"
      },
      "source": [
        "df.columns=['CRIM','ZN','INDUS','CHAS','NOX','RM','AGE','DIS','RAD','TAX','RTRATIO','B','LSTAT','MEDV']\n",
        "print(df.head())"
      ],
      "execution_count": null,
      "outputs": []
    },
    {
      "cell_type": "code",
      "metadata": {
        "id": "I54fV9atXssl"
      },
      "source": [
        "import matplotlib.pyplot as plt\n",
        "import seaborn as sns\n",
        "cols=['LSTAT','INDUS','NOX','RM','MEDV']\n",
        "sns.pairplot(df[cols],height=2.5)\n",
        "plt.tight_layout()\n",
        "plt.show()"
      ],
      "execution_count": null,
      "outputs": []
    },
    {
      "cell_type": "code",
      "metadata": {
        "id": "C616w3BDZVWs"
      },
      "source": [
        "import numpy as np\n",
        "cm=np.corrcoef(df[cols].values.T)\n",
        "sns.set(font_scale=1.5)\n",
        "hm=sns.heatmap(cm,cbar=True,annot=True,square=True, fmt='.2f',annot_kws={'size':15},yticklabels=cols, xticklabels=cols)\n",
        "plt.tight_layout()\n",
        "plt.show()"
      ],
      "execution_count": null,
      "outputs": []
    },
    {
      "cell_type": "code",
      "metadata": {
        "id": "egV8nS4sbhmu"
      },
      "source": [
        "from keras.models import Sequential\n",
        "from keras.layers import Dense\n",
        "from sklearn.model_selection import train_test_split\n",
        "\n",
        "import numpy\n",
        "import pandas as pd\n",
        "import tensorflow as tf\n",
        "\n",
        "# seed 값 설정\n",
        "seed =0\n",
        "numpy.random.seed(seed)\n",
        "tf.random.set_seed(3)\n",
        "\n",
        "# 데이터셋 읽기\n",
        "df=pd.read_csv(\"/content/drive/MyDrive/housing.csv\", delim_whitespace=True,header=None)\n",
        "\n",
        "# 훈련데이터 설정\n",
        "dataset=df.values\n",
        "X=dataset[:, 0:13]\n",
        "Y=dataset[:,13]\n",
        "X_train, X_test, Y_train, Y_test=train_test_split(X,Y, test_size=0.3, random_state=seed)\n",
        "\n",
        "# 훈련 모델 구조 설계\n",
        "model=Sequential()\n",
        "model.add(Dense(30, input_dim=13, activation='relu'))\n",
        "model.add(Dense(6,activation='relu'))\n",
        "model.add(Dense(1))\n",
        "\n",
        "model.compile(loss='mean_squared_error',optimizer='adam')  # adam 추가설명\n",
        "\n",
        "# 학습\n",
        "model.fit(X_train, Y_train, epochs=200, batch_size=10)\n",
        "\n",
        "# 예측값과 실제 값 비교\n",
        "Y_prediction = model.predict(X_test).flatten()\n",
        " \n",
        "for i in range(10):\n",
        "    label = Y_test[i]\n",
        "    prediction = Y_prediction[i]\n",
        "    print(\"실제가격 : {:.3f}, 예상가격 :{:.3f}\".format(label,prediction))\n",
        "\n",
        "\n"
      ],
      "execution_count": null,
      "outputs": []
    },
    {
      "cell_type": "code",
      "metadata": {
        "id": "bR1hnnNauSwU"
      },
      "source": [
        "from sklearn.linear_model import LinearRegression\n",
        "slr=LinearRegression()\n",
        "slr.fit(X,Y)\n",
        "print(\"w: %.3f\" % slr.coef_[0])\n",
        "print(\"b: %.3f\" % slr.intercept_)"
      ],
      "execution_count": null,
      "outputs": []
    },
    {
      "cell_type": "code",
      "metadata": {
        "id": "h92WZbJbvUmn"
      },
      "source": [
        "def lin_regplot(X,Y, model):\n",
        "    plt.scatter(X,Y, c='steelblue', edgecolor='white',s=70)\n",
        "    plt.plot(X,model.predict(X), color='black',lw=2)\n",
        "    return None\n",
        "\n",
        "lin_regplot(X,Y, slr)\n",
        "plt.xlabel(\"Average number opf rooms[RM]\")\n",
        "plt.ylabel(\"Price in $1000s[MEDV]\")\n",
        "plt.show()"
      ],
      "execution_count": null,
      "outputs": []
    }
  ]
}