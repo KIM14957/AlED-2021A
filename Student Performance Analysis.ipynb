{
  "nbformat": 4,
  "nbformat_minor": 0,
  "metadata": {
    "kernelspec": {
      "display_name": "Python 3",
      "language": "python",
      "name": "python3"
    },
    "language_info": {
      "codemirror_mode": {
        "name": "ipython",
        "version": 3
      },
      "file_extension": ".py",
      "mimetype": "text/x-python",
      "name": "python",
      "nbconvert_exporter": "python",
      "pygments_lexer": "ipython3",
      "version": "3.6.6"
    },
    "colab": {
      "name": "Student Performance Analysis.ipynb",
      "provenance": []
    }
  },
  "cells": [
    {
      "cell_type": "markdown",
      "metadata": {
        "id": "Z4vIpEmbsfrt"
      },
      "source": [
        "#### Import Files"
      ]
    },
    {
      "cell_type": "code",
      "metadata": {
        "id": "jhU83J0Asfrv"
      },
      "source": [
        "# Import Files\n",
        "import pandas as pd\n",
        "import numpy as np\n",
        "import os\n",
        "import sys\n",
        "import random\n",
        "import time\n",
        "import matplotlib\n",
        "import matplotlib.pyplot as plt\n",
        "plt.grid(True)\n",
        "from sklearn.svm import SVR\n",
        "import pickle\n",
        "from sklearn.metrics import mean_squared_error\n",
        "from sklearn.neural_network import MLPRegressor\n",
        "from math import sqrt\n",
        "\n",
        "%matplotlib inline\n"
      ],
      "execution_count": null,
      "outputs": []
    },
    {
      "cell_type": "code",
      "metadata": {
        "id": "ywDMwz9psfrv"
      },
      "source": [
        "# Importing the datasets\n",
        "\n",
        "# Mathematics Data\n",
        "student_mat = pd.read_csv('./student/student-mat.csv', sep=';')\n",
        "\n",
        "# Portuguese Data\n",
        "student_por = pd.read_csv(\"./student/student-por.csv\", sep=';')"
      ],
      "execution_count": null,
      "outputs": []
    },
    {
      "cell_type": "code",
      "metadata": {
        "id": "gidP9mxVsfrw",
        "outputId": "d4137037-b26f-454b-8330-692960f43e2d"
      },
      "source": [
        "# Checking out few rows of Mathematics\n",
        "student_mat.head()"
      ],
      "execution_count": null,
      "outputs": [
        {
          "output_type": "execute_result",
          "data": {
            "text/html": [
              "<div>\n",
              "<style scoped>\n",
              "    .dataframe tbody tr th:only-of-type {\n",
              "        vertical-align: middle;\n",
              "    }\n",
              "\n",
              "    .dataframe tbody tr th {\n",
              "        vertical-align: top;\n",
              "    }\n",
              "\n",
              "    .dataframe thead th {\n",
              "        text-align: right;\n",
              "    }\n",
              "</style>\n",
              "<table border=\"1\" class=\"dataframe\">\n",
              "  <thead>\n",
              "    <tr style=\"text-align: right;\">\n",
              "      <th></th>\n",
              "      <th>school</th>\n",
              "      <th>sex</th>\n",
              "      <th>age</th>\n",
              "      <th>address</th>\n",
              "      <th>famsize</th>\n",
              "      <th>Pstatus</th>\n",
              "      <th>Medu</th>\n",
              "      <th>Fedu</th>\n",
              "      <th>Mjob</th>\n",
              "      <th>Fjob</th>\n",
              "      <th>...</th>\n",
              "      <th>famrel</th>\n",
              "      <th>freetime</th>\n",
              "      <th>goout</th>\n",
              "      <th>Dalc</th>\n",
              "      <th>Walc</th>\n",
              "      <th>health</th>\n",
              "      <th>absences</th>\n",
              "      <th>G1</th>\n",
              "      <th>G2</th>\n",
              "      <th>G3</th>\n",
              "    </tr>\n",
              "  </thead>\n",
              "  <tbody>\n",
              "    <tr>\n",
              "      <th>0</th>\n",
              "      <td>GP</td>\n",
              "      <td>F</td>\n",
              "      <td>18</td>\n",
              "      <td>U</td>\n",
              "      <td>GT3</td>\n",
              "      <td>A</td>\n",
              "      <td>4</td>\n",
              "      <td>4</td>\n",
              "      <td>at_home</td>\n",
              "      <td>teacher</td>\n",
              "      <td>...</td>\n",
              "      <td>4</td>\n",
              "      <td>3</td>\n",
              "      <td>4</td>\n",
              "      <td>1</td>\n",
              "      <td>1</td>\n",
              "      <td>3</td>\n",
              "      <td>6</td>\n",
              "      <td>5</td>\n",
              "      <td>6</td>\n",
              "      <td>6</td>\n",
              "    </tr>\n",
              "    <tr>\n",
              "      <th>1</th>\n",
              "      <td>GP</td>\n",
              "      <td>F</td>\n",
              "      <td>17</td>\n",
              "      <td>U</td>\n",
              "      <td>GT3</td>\n",
              "      <td>T</td>\n",
              "      <td>1</td>\n",
              "      <td>1</td>\n",
              "      <td>at_home</td>\n",
              "      <td>other</td>\n",
              "      <td>...</td>\n",
              "      <td>5</td>\n",
              "      <td>3</td>\n",
              "      <td>3</td>\n",
              "      <td>1</td>\n",
              "      <td>1</td>\n",
              "      <td>3</td>\n",
              "      <td>4</td>\n",
              "      <td>5</td>\n",
              "      <td>5</td>\n",
              "      <td>6</td>\n",
              "    </tr>\n",
              "    <tr>\n",
              "      <th>2</th>\n",
              "      <td>GP</td>\n",
              "      <td>F</td>\n",
              "      <td>15</td>\n",
              "      <td>U</td>\n",
              "      <td>LE3</td>\n",
              "      <td>T</td>\n",
              "      <td>1</td>\n",
              "      <td>1</td>\n",
              "      <td>at_home</td>\n",
              "      <td>other</td>\n",
              "      <td>...</td>\n",
              "      <td>4</td>\n",
              "      <td>3</td>\n",
              "      <td>2</td>\n",
              "      <td>2</td>\n",
              "      <td>3</td>\n",
              "      <td>3</td>\n",
              "      <td>10</td>\n",
              "      <td>7</td>\n",
              "      <td>8</td>\n",
              "      <td>10</td>\n",
              "    </tr>\n",
              "    <tr>\n",
              "      <th>3</th>\n",
              "      <td>GP</td>\n",
              "      <td>F</td>\n",
              "      <td>15</td>\n",
              "      <td>U</td>\n",
              "      <td>GT3</td>\n",
              "      <td>T</td>\n",
              "      <td>4</td>\n",
              "      <td>2</td>\n",
              "      <td>health</td>\n",
              "      <td>services</td>\n",
              "      <td>...</td>\n",
              "      <td>3</td>\n",
              "      <td>2</td>\n",
              "      <td>2</td>\n",
              "      <td>1</td>\n",
              "      <td>1</td>\n",
              "      <td>5</td>\n",
              "      <td>2</td>\n",
              "      <td>15</td>\n",
              "      <td>14</td>\n",
              "      <td>15</td>\n",
              "    </tr>\n",
              "    <tr>\n",
              "      <th>4</th>\n",
              "      <td>GP</td>\n",
              "      <td>F</td>\n",
              "      <td>16</td>\n",
              "      <td>U</td>\n",
              "      <td>GT3</td>\n",
              "      <td>T</td>\n",
              "      <td>3</td>\n",
              "      <td>3</td>\n",
              "      <td>other</td>\n",
              "      <td>other</td>\n",
              "      <td>...</td>\n",
              "      <td>4</td>\n",
              "      <td>3</td>\n",
              "      <td>2</td>\n",
              "      <td>1</td>\n",
              "      <td>2</td>\n",
              "      <td>5</td>\n",
              "      <td>4</td>\n",
              "      <td>6</td>\n",
              "      <td>10</td>\n",
              "      <td>10</td>\n",
              "    </tr>\n",
              "  </tbody>\n",
              "</table>\n",
              "<p>5 rows × 33 columns</p>\n",
              "</div>"
            ],
            "text/plain": [
              "  school sex  age address famsize Pstatus  Medu  Fedu     Mjob      Fjob ...  \\\n",
              "0     GP   F   18       U     GT3       A     4     4  at_home   teacher ...   \n",
              "1     GP   F   17       U     GT3       T     1     1  at_home     other ...   \n",
              "2     GP   F   15       U     LE3       T     1     1  at_home     other ...   \n",
              "3     GP   F   15       U     GT3       T     4     2   health  services ...   \n",
              "4     GP   F   16       U     GT3       T     3     3    other     other ...   \n",
              "\n",
              "  famrel freetime  goout  Dalc  Walc health absences  G1  G2  G3  \n",
              "0      4        3      4     1     1      3        6   5   6   6  \n",
              "1      5        3      3     1     1      3        4   5   5   6  \n",
              "2      4        3      2     2     3      3       10   7   8  10  \n",
              "3      3        2      2     1     1      5        2  15  14  15  \n",
              "4      4        3      2     1     2      5        4   6  10  10  \n",
              "\n",
              "[5 rows x 33 columns]"
            ]
          },
          "metadata": {
            "tags": []
          },
          "execution_count": 3
        }
      ]
    },
    {
      "cell_type": "code",
      "metadata": {
        "scrolled": true,
        "id": "YeWCJRxAsfrx",
        "outputId": "73b9a1cb-02be-4729-ce35-81e33b264e96"
      },
      "source": [
        "# Checking out few rows of Portuguese\n",
        "student_por.head()"
      ],
      "execution_count": null,
      "outputs": [
        {
          "output_type": "execute_result",
          "data": {
            "text/html": [
              "<div>\n",
              "<style scoped>\n",
              "    .dataframe tbody tr th:only-of-type {\n",
              "        vertical-align: middle;\n",
              "    }\n",
              "\n",
              "    .dataframe tbody tr th {\n",
              "        vertical-align: top;\n",
              "    }\n",
              "\n",
              "    .dataframe thead th {\n",
              "        text-align: right;\n",
              "    }\n",
              "</style>\n",
              "<table border=\"1\" class=\"dataframe\">\n",
              "  <thead>\n",
              "    <tr style=\"text-align: right;\">\n",
              "      <th></th>\n",
              "      <th>school</th>\n",
              "      <th>sex</th>\n",
              "      <th>age</th>\n",
              "      <th>address</th>\n",
              "      <th>famsize</th>\n",
              "      <th>Pstatus</th>\n",
              "      <th>Medu</th>\n",
              "      <th>Fedu</th>\n",
              "      <th>Mjob</th>\n",
              "      <th>Fjob</th>\n",
              "      <th>...</th>\n",
              "      <th>famrel</th>\n",
              "      <th>freetime</th>\n",
              "      <th>goout</th>\n",
              "      <th>Dalc</th>\n",
              "      <th>Walc</th>\n",
              "      <th>health</th>\n",
              "      <th>absences</th>\n",
              "      <th>G1</th>\n",
              "      <th>G2</th>\n",
              "      <th>G3</th>\n",
              "    </tr>\n",
              "  </thead>\n",
              "  <tbody>\n",
              "    <tr>\n",
              "      <th>0</th>\n",
              "      <td>GP</td>\n",
              "      <td>F</td>\n",
              "      <td>18</td>\n",
              "      <td>U</td>\n",
              "      <td>GT3</td>\n",
              "      <td>A</td>\n",
              "      <td>4</td>\n",
              "      <td>4</td>\n",
              "      <td>at_home</td>\n",
              "      <td>teacher</td>\n",
              "      <td>...</td>\n",
              "      <td>4</td>\n",
              "      <td>3</td>\n",
              "      <td>4</td>\n",
              "      <td>1</td>\n",
              "      <td>1</td>\n",
              "      <td>3</td>\n",
              "      <td>4</td>\n",
              "      <td>0</td>\n",
              "      <td>11</td>\n",
              "      <td>11</td>\n",
              "    </tr>\n",
              "    <tr>\n",
              "      <th>1</th>\n",
              "      <td>GP</td>\n",
              "      <td>F</td>\n",
              "      <td>17</td>\n",
              "      <td>U</td>\n",
              "      <td>GT3</td>\n",
              "      <td>T</td>\n",
              "      <td>1</td>\n",
              "      <td>1</td>\n",
              "      <td>at_home</td>\n",
              "      <td>other</td>\n",
              "      <td>...</td>\n",
              "      <td>5</td>\n",
              "      <td>3</td>\n",
              "      <td>3</td>\n",
              "      <td>1</td>\n",
              "      <td>1</td>\n",
              "      <td>3</td>\n",
              "      <td>2</td>\n",
              "      <td>9</td>\n",
              "      <td>11</td>\n",
              "      <td>11</td>\n",
              "    </tr>\n",
              "    <tr>\n",
              "      <th>2</th>\n",
              "      <td>GP</td>\n",
              "      <td>F</td>\n",
              "      <td>15</td>\n",
              "      <td>U</td>\n",
              "      <td>LE3</td>\n",
              "      <td>T</td>\n",
              "      <td>1</td>\n",
              "      <td>1</td>\n",
              "      <td>at_home</td>\n",
              "      <td>other</td>\n",
              "      <td>...</td>\n",
              "      <td>4</td>\n",
              "      <td>3</td>\n",
              "      <td>2</td>\n",
              "      <td>2</td>\n",
              "      <td>3</td>\n",
              "      <td>3</td>\n",
              "      <td>6</td>\n",
              "      <td>12</td>\n",
              "      <td>13</td>\n",
              "      <td>12</td>\n",
              "    </tr>\n",
              "    <tr>\n",
              "      <th>3</th>\n",
              "      <td>GP</td>\n",
              "      <td>F</td>\n",
              "      <td>15</td>\n",
              "      <td>U</td>\n",
              "      <td>GT3</td>\n",
              "      <td>T</td>\n",
              "      <td>4</td>\n",
              "      <td>2</td>\n",
              "      <td>health</td>\n",
              "      <td>services</td>\n",
              "      <td>...</td>\n",
              "      <td>3</td>\n",
              "      <td>2</td>\n",
              "      <td>2</td>\n",
              "      <td>1</td>\n",
              "      <td>1</td>\n",
              "      <td>5</td>\n",
              "      <td>0</td>\n",
              "      <td>14</td>\n",
              "      <td>14</td>\n",
              "      <td>14</td>\n",
              "    </tr>\n",
              "    <tr>\n",
              "      <th>4</th>\n",
              "      <td>GP</td>\n",
              "      <td>F</td>\n",
              "      <td>16</td>\n",
              "      <td>U</td>\n",
              "      <td>GT3</td>\n",
              "      <td>T</td>\n",
              "      <td>3</td>\n",
              "      <td>3</td>\n",
              "      <td>other</td>\n",
              "      <td>other</td>\n",
              "      <td>...</td>\n",
              "      <td>4</td>\n",
              "      <td>3</td>\n",
              "      <td>2</td>\n",
              "      <td>1</td>\n",
              "      <td>2</td>\n",
              "      <td>5</td>\n",
              "      <td>0</td>\n",
              "      <td>11</td>\n",
              "      <td>13</td>\n",
              "      <td>13</td>\n",
              "    </tr>\n",
              "  </tbody>\n",
              "</table>\n",
              "<p>5 rows × 33 columns</p>\n",
              "</div>"
            ],
            "text/plain": [
              "  school sex  age address famsize Pstatus  Medu  Fedu     Mjob      Fjob ...  \\\n",
              "0     GP   F   18       U     GT3       A     4     4  at_home   teacher ...   \n",
              "1     GP   F   17       U     GT3       T     1     1  at_home     other ...   \n",
              "2     GP   F   15       U     LE3       T     1     1  at_home     other ...   \n",
              "3     GP   F   15       U     GT3       T     4     2   health  services ...   \n",
              "4     GP   F   16       U     GT3       T     3     3    other     other ...   \n",
              "\n",
              "  famrel freetime  goout  Dalc  Walc health absences  G1  G2  G3  \n",
              "0      4        3      4     1     1      3        4   0  11  11  \n",
              "1      5        3      3     1     1      3        2   9  11  11  \n",
              "2      4        3      2     2     3      3        6  12  13  12  \n",
              "3      3        2      2     1     1      5        0  14  14  14  \n",
              "4      4        3      2     1     2      5        0  11  13  13  \n",
              "\n",
              "[5 rows x 33 columns]"
            ]
          },
          "metadata": {
            "tags": []
          },
          "execution_count": 4
        }
      ]
    },
    {
      "cell_type": "code",
      "metadata": {
        "id": "-NtZ6-jzsfrx",
        "outputId": "a8919589-11e3-4ecf-9154-2343896fd662"
      },
      "source": [
        "# Number of records\n",
        "print(\"Number of Mathematics Student Data:\")\n",
        "len(student_mat)"
      ],
      "execution_count": null,
      "outputs": [
        {
          "output_type": "stream",
          "text": [
            "Number of Mathematics Student Data:\n"
          ],
          "name": "stdout"
        },
        {
          "output_type": "execute_result",
          "data": {
            "text/plain": [
              "395"
            ]
          },
          "metadata": {
            "tags": []
          },
          "execution_count": 5
        }
      ]
    },
    {
      "cell_type": "code",
      "metadata": {
        "id": "BE2EzQtTsfrx",
        "outputId": "3f671b0e-866e-425e-adb2-22ebbd7f7938"
      },
      "source": [
        "# Number of records\n",
        "print(\"Number of Portuguese Student Data:\")\n",
        "len(student_por)"
      ],
      "execution_count": null,
      "outputs": [
        {
          "output_type": "stream",
          "text": [
            "Number of Portuguese Student Data:\n"
          ],
          "name": "stdout"
        },
        {
          "output_type": "execute_result",
          "data": {
            "text/plain": [
              "649"
            ]
          },
          "metadata": {
            "tags": []
          },
          "execution_count": 6
        }
      ]
    },
    {
      "cell_type": "code",
      "metadata": {
        "id": "06AXtKeksfry",
        "outputId": "831cd705-e847-4dee-a991-efcac7de0609"
      },
      "source": [
        "# Number of Attributes, should be 33 as specified at the data website\n",
        "print(\"Attribute List:\")\n",
        "print(list(student_mat))\n",
        "print()\n",
        "print(\"Number of attributes: \", end=\"\")\n",
        "print(len(list(student_mat)))"
      ],
      "execution_count": null,
      "outputs": [
        {
          "output_type": "stream",
          "text": [
            "Attribute List:\n",
            "['school', 'sex', 'age', 'address', 'famsize', 'Pstatus', 'Medu', 'Fedu', 'Mjob', 'Fjob', 'reason', 'guardian', 'traveltime', 'studytime', 'failures', 'schoolsup', 'famsup', 'paid', 'activities', 'nursery', 'higher', 'internet', 'romantic', 'famrel', 'freetime', 'goout', 'Dalc', 'Walc', 'health', 'absences', 'G1', 'G2', 'G3']\n",
            "\n",
            "Number of attributes: 33\n"
          ],
          "name": "stdout"
        }
      ]
    },
    {
      "cell_type": "code",
      "metadata": {
        "id": "NexTdu8gsfry",
        "outputId": "73f4a661-fbc6-442a-b4a5-304afc29129e"
      },
      "source": [
        "# Number of Attributes, should be 33 as specified at the data website\n",
        "print(\"Attribute List:\")\n",
        "print(list(student_por))\n",
        "print()\n",
        "print(\"Number of attributes: \", end=\"\")\n",
        "print(len(list(student_por)))"
      ],
      "execution_count": null,
      "outputs": [
        {
          "output_type": "stream",
          "text": [
            "Attribute List:\n",
            "['school', 'sex', 'age', 'address', 'famsize', 'Pstatus', 'Medu', 'Fedu', 'Mjob', 'Fjob', 'reason', 'guardian', 'traveltime', 'studytime', 'failures', 'schoolsup', 'famsup', 'paid', 'activities', 'nursery', 'higher', 'internet', 'romantic', 'famrel', 'freetime', 'goout', 'Dalc', 'Walc', 'health', 'absences', 'G1', 'G2', 'G3']\n",
            "\n",
            "Number of attributes: 33\n"
          ],
          "name": "stdout"
        }
      ]
    },
    {
      "cell_type": "markdown",
      "metadata": {
        "id": "vIJlCDvLsfry"
      },
      "source": [
        "## Preprocessing the data to be made ready for analysis"
      ]
    },
    {
      "cell_type": "code",
      "metadata": {
        "id": "5KyETi6isfrz"
      },
      "source": [
        "# Copying the data, so orignal remains intact\n",
        "student_mat_clean = student_mat.copy()\n",
        "student_por_clean = student_por.copy()"
      ],
      "execution_count": null,
      "outputs": []
    },
    {
      "cell_type": "markdown",
      "metadata": {
        "id": "NU226KSwsfrz"
      },
      "source": [
        "### For Mathematics students"
      ]
    },
    {
      "cell_type": "code",
      "metadata": {
        "id": "N55WOsdAsfrz",
        "outputId": "8a9d9f63-60a0-4c70-a13a-79e3573aa796"
      },
      "source": [
        "# School\n",
        "# Unique Schools\n",
        "print(student_mat.school.unique())\n",
        "student_mat_clean.loc[student_mat_clean['school']=='GP', 'school'] = 1\n",
        "student_mat_clean.loc[student_mat_clean['school']=='MS', 'school'] = 2\n",
        "print(student_mat_clean.school.unique())\n",
        "print()\n",
        "\n",
        "\n",
        "# Gender\n",
        "# Unique Genders\n",
        "print(student_mat.sex.unique())\n",
        "student_mat_clean.loc[student_mat_clean['sex']=='M', 'sex'] = 1\n",
        "student_mat_clean.loc[student_mat_clean['sex']=='F', 'sex'] = 2\n",
        "print(student_mat_clean.sex.unique())\n",
        "print()\n",
        "\n",
        "\n",
        "\n",
        "# Address\n",
        "# Unique Address\n",
        "print(student_mat.address.unique())\n",
        "student_mat_clean.loc[student_mat_clean['address']=='R', 'address'] = 1\n",
        "student_mat_clean.loc[student_mat_clean['address']=='U', 'address'] = 2\n",
        "print(student_mat_clean.address.unique())\n",
        "print()\n",
        "\n",
        "# Family Size\n",
        "# Unique Family Sizes\n",
        "print(student_mat.famsize.unique())\n",
        "student_mat_clean.loc[student_mat_clean['famsize']=='LE3', 'famsize'] = 1\n",
        "student_mat_clean.loc[student_mat_clean['famsize']=='GT3', 'famsize'] = 2\n",
        "print(student_mat_clean.famsize.unique())\n",
        "print()\n",
        "\n",
        "\n",
        "\n",
        "# Parent Status\n",
        "# Unique Parent Statuses\n",
        "print(student_mat.Pstatus.unique())\n",
        "student_mat_clean.loc[student_mat_clean['Pstatus']=='A', 'Pstatus'] = 1\n",
        "student_mat_clean.loc[student_mat_clean['Pstatus']=='T', 'Pstatus'] = 2\n",
        "print(student_mat_clean.Pstatus.unique())\n",
        "print()\n",
        "\n",
        "\n",
        "# Mother's Job Status\n",
        "# Unique Mothers' jobs\n",
        "print(student_mat.Mjob.unique())\n",
        "student_mat_clean.loc[student_mat_clean['Mjob']=='teacher', 'Mjob'] = 5\n",
        "student_mat_clean.loc[student_mat_clean['Mjob']=='services', 'Mjob'] = 4\n",
        "student_mat_clean.loc[student_mat_clean['Mjob']=='health', 'Mjob'] = 3\n",
        "student_mat_clean.loc[student_mat_clean['Mjob']=='other', 'Mjob'] = 2\n",
        "student_mat_clean.loc[student_mat_clean['Mjob']=='at_home', 'Mjob'] = 1\n",
        "print(student_mat_clean.Mjob.unique())\n",
        "print()\n",
        "\n",
        "\n",
        "# Father's Job Status\n",
        "# Unique Fathers' jobs\n",
        "print(student_mat.Fjob.unique())\n",
        "student_mat_clean.loc[student_mat_clean['Fjob']=='teacher', 'Fjob'] = 5\n",
        "student_mat_clean.loc[student_mat_clean['Fjob']=='services', 'Fjob'] = 4\n",
        "student_mat_clean.loc[student_mat_clean['Fjob']=='health', 'Fjob'] = 3\n",
        "student_mat_clean.loc[student_mat_clean['Fjob']=='other', 'Fjob'] = 2\n",
        "student_mat_clean.loc[student_mat_clean['Fjob']=='at_home', 'Fjob'] = 1\n",
        "print(student_mat_clean.Fjob.unique())\n",
        "print()\n",
        "\n",
        "\n",
        "# Reasons\n",
        "# Unique Reasons\n",
        "print(student_mat.reason.unique())\n",
        "student_mat_clean.loc[student_mat_clean['reason']=='reputation', 'reason'] = 4\n",
        "student_mat_clean.loc[student_mat_clean['reason']=='course', 'reason'] = 3\n",
        "student_mat_clean.loc[student_mat_clean['reason']=='home', 'reason'] = 2\n",
        "student_mat_clean.loc[student_mat_clean['reason']=='other', 'reason'] = 1\n",
        "print(student_mat_clean.reason.unique())\n",
        "print()\n",
        "\n",
        "\n",
        "\n",
        "\n",
        "# Guardians\n",
        "# Unique Guardians\n",
        "print(student_mat.guardian.unique())\n",
        "student_mat_clean.loc[student_mat_clean['guardian']=='father', 'guardian'] = 3\n",
        "student_mat_clean.loc[student_mat_clean['guardian']=='mother', 'guardian'] = 2\n",
        "student_mat_clean.loc[student_mat_clean['guardian']=='other', 'guardian'] = 1\n",
        "print(student_mat_clean.guardian.unique())\n",
        "print()\n",
        "\n",
        "\n",
        "# School Support\n",
        "# Unique School Supports\n",
        "print(student_mat.schoolsup.unique())\n",
        "student_mat_clean.loc[student_mat_clean['schoolsup']=='yes', 'schoolsup'] = 2\n",
        "student_mat_clean.loc[student_mat_clean['schoolsup']=='no', 'schoolsup'] = 1\n",
        "print(student_mat_clean.schoolsup.unique())\n",
        "print()\n",
        "\n",
        "# Family Support\n",
        "# Unique Family Supports\n",
        "print(student_mat.famsup.unique())\n",
        "student_mat_clean.loc[student_mat_clean['famsup']=='yes', 'famsup'] = 2\n",
        "student_mat_clean.loc[student_mat_clean['famsup']=='no', 'famsup'] = 1\n",
        "print(student_mat_clean.famsup.unique())\n",
        "print()\n",
        "\n",
        "\n",
        "# Paid\n",
        "# Unique Pays\n",
        "print(student_mat.paid.unique())\n",
        "student_mat_clean.loc[student_mat_clean['paid']=='yes', 'paid'] = 2\n",
        "student_mat_clean.loc[student_mat_clean['paid']=='no', 'paid'] = 1\n",
        "print(student_mat_clean.paid.unique())\n",
        "print()\n",
        "\n",
        "\n",
        "# Activities\n",
        "# Unique Activities\n",
        "print(student_mat.activities.unique())\n",
        "student_mat_clean.loc[student_mat_clean['activities']=='yes', 'activities'] = 2\n",
        "student_mat_clean.loc[student_mat_clean['activities']=='no', 'activities'] = 1\n",
        "print(student_mat_clean.activities.unique())\n",
        "print()\n",
        "\n",
        "\n",
        "# Nursery\n",
        "# Unique Nursery status\n",
        "print(student_mat.nursery.unique())\n",
        "student_mat_clean.loc[student_mat_clean['nursery']=='yes', 'nursery'] = 2\n",
        "student_mat_clean.loc[student_mat_clean['nursery']=='no', 'nursery'] = 1\n",
        "print(student_mat_clean.nursery.unique())\n",
        "print()\n",
        "\n",
        "\n",
        "# Higher Education\n",
        "# Unique Higher Education status\n",
        "print(student_mat.higher.unique())\n",
        "student_mat_clean.loc[student_mat_clean['higher']=='yes', 'higher'] = 2\n",
        "student_mat_clean.loc[student_mat_clean['higher']=='no', 'higher'] = 1\n",
        "print(student_mat_clean.higher.unique())\n",
        "print()\n",
        "\n",
        "# Internet\n",
        "# Unique Internet Status\n",
        "print(student_mat.internet.unique())\n",
        "student_mat_clean.loc[student_mat_clean['internet']=='yes', 'internet'] = 2\n",
        "student_mat_clean.loc[student_mat_clean['internet']=='no', 'internet'] = 1\n",
        "print(student_mat_clean.internet.unique())\n",
        "print()\n",
        "\n",
        "\n",
        "# Relationship\n",
        "# Unique Relationship Status\n",
        "print(student_mat.romantic.unique())\n",
        "student_mat_clean.loc[student_mat_clean['romantic']=='yes', 'romantic'] = 2\n",
        "student_mat_clean.loc[student_mat_clean['romantic']=='no', 'romantic'] = 1\n",
        "print(student_mat_clean.romantic.unique())\n",
        "print()\n",
        "\n",
        "\n",
        "\n",
        "\n"
      ],
      "execution_count": null,
      "outputs": [
        {
          "output_type": "stream",
          "text": [
            "['GP' 'MS']\n",
            "[1 2]\n",
            "\n",
            "['F' 'M']\n",
            "[2 1]\n",
            "\n",
            "['U' 'R']\n",
            "[2 1]\n",
            "\n",
            "['GT3' 'LE3']\n",
            "[2 1]\n",
            "\n",
            "['A' 'T']\n",
            "[1 2]\n",
            "\n",
            "['at_home' 'health' 'other' 'services' 'teacher']\n",
            "[1 3 2 4 5]\n",
            "\n",
            "['teacher' 'other' 'services' 'health' 'at_home']\n",
            "[5 2 4 3 1]\n",
            "\n",
            "['course' 'other' 'home' 'reputation']\n",
            "[3 1 2 4]\n",
            "\n",
            "['mother' 'father' 'other']\n",
            "[2 3 1]\n",
            "\n",
            "['yes' 'no']\n",
            "[2 1]\n",
            "\n",
            "['no' 'yes']\n",
            "[1 2]\n",
            "\n",
            "['no' 'yes']\n",
            "[1 2]\n",
            "\n",
            "['no' 'yes']\n",
            "[1 2]\n",
            "\n",
            "['yes' 'no']\n",
            "[2 1]\n",
            "\n",
            "['yes' 'no']\n",
            "[2 1]\n",
            "\n",
            "['no' 'yes']\n",
            "[1 2]\n",
            "\n",
            "['no' 'yes']\n",
            "[1 2]\n",
            "\n"
          ],
          "name": "stdout"
        }
      ]
    },
    {
      "cell_type": "markdown",
      "metadata": {
        "id": "Kf0gmnOjsfr2"
      },
      "source": [
        "### For Portuguese students"
      ]
    },
    {
      "cell_type": "code",
      "metadata": {
        "id": "uuUzDBjNsfr4",
        "outputId": "4a265c5a-ae2c-4e26-b854-40c294abee6c"
      },
      "source": [
        "# School\n",
        "# Unique Schools\n",
        "print(student_por.school.unique())\n",
        "student_por_clean.loc[student_por_clean['school']=='GP', 'school'] = 1\n",
        "student_por_clean.loc[student_por_clean['school']=='MS', 'school'] = 2\n",
        "print(student_por_clean.school.unique())\n",
        "print()\n",
        "\n",
        "\n",
        "# Gender\n",
        "# Unique Genders\n",
        "print(student_por.sex.unique())\n",
        "student_por_clean.loc[student_por_clean['sex']=='M', 'sex'] = 1\n",
        "student_por_clean.loc[student_por_clean['sex']=='F', 'sex'] = 2\n",
        "print(student_por_clean.sex.unique())\n",
        "print()\n",
        "\n",
        "\n",
        "# Address\n",
        "# Unique Address\n",
        "print(student_por.address.unique())\n",
        "student_por_clean.loc[student_por_clean['address']=='R', 'address'] = 1\n",
        "student_por_clean.loc[student_por_clean['address']=='U', 'address'] = 2\n",
        "print(student_por_clean.address.unique())\n",
        "print()\n",
        "\n",
        "\n",
        "# Family Size\n",
        "# Unique Family Sizes\n",
        "print(student_por.famsize.unique())\n",
        "student_por_clean.loc[student_por_clean['famsize']=='LE3', 'famsize'] = 1\n",
        "student_por_clean.loc[student_por_clean['famsize']=='GT3', 'famsize'] = 2\n",
        "print(student_por_clean.famsize.unique())\n",
        "print()\n",
        "\n",
        "\n",
        "# Parent Status\n",
        "# Unique Parent Statuses\n",
        "print(student_por.Pstatus.unique())\n",
        "student_por_clean.loc[student_por_clean['Pstatus']=='A', 'Pstatus'] = 1\n",
        "student_por_clean.loc[student_por_clean['Pstatus']=='T', 'Pstatus'] = 2\n",
        "print(student_por_clean.Pstatus.unique())\n",
        "print()\n",
        "\n",
        "\n",
        "# Mother's Job Status\n",
        "# Unique Mothers' jobs\n",
        "print(student_por.Mjob.unique())\n",
        "student_por_clean.loc[student_por_clean['Mjob']=='teacher', 'Mjob'] = 5\n",
        "student_por_clean.loc[student_por_clean['Mjob']=='services', 'Mjob'] = 4\n",
        "student_por_clean.loc[student_por_clean['Mjob']=='health', 'Mjob'] = 3\n",
        "student_por_clean.loc[student_por_clean['Mjob']=='other', 'Mjob'] = 2\n",
        "student_por_clean.loc[student_por_clean['Mjob']=='at_home', 'Mjob'] = 1\n",
        "print(student_por_clean.Mjob.unique())\n",
        "print()\n",
        "\n",
        "\n",
        "# Father's Job Status\n",
        "# Unique Fathers' jobs\n",
        "print(student_por.Fjob.unique())\n",
        "student_por_clean.loc[student_por_clean['Fjob']=='teacher', 'Fjob'] = 5\n",
        "student_por_clean.loc[student_por_clean['Fjob']=='services', 'Fjob'] = 4\n",
        "student_por_clean.loc[student_por_clean['Fjob']=='health', 'Fjob'] = 3\n",
        "student_por_clean.loc[student_por_clean['Fjob']=='other', 'Fjob'] = 2\n",
        "student_por_clean.loc[student_por_clean['Fjob']=='at_home', 'Fjob'] = 1\n",
        "print(student_por_clean.Fjob.unique())\n",
        "print()\n",
        "\n",
        "\n",
        "# Reasons\n",
        "# Unique Reasons\n",
        "print(student_por.reason.unique())\n",
        "student_por_clean.loc[student_por_clean['reason']=='reputation', 'reason'] = 4\n",
        "student_por_clean.loc[student_por_clean['reason']=='course', 'reason'] = 3\n",
        "student_por_clean.loc[student_por_clean['reason']=='home', 'reason'] = 2\n",
        "student_por_clean.loc[student_por_clean['reason']=='other', 'reason'] = 1\n",
        "print(student_por_clean.reason.unique())\n",
        "print()\n",
        "\n",
        "\n",
        "\n",
        "\n",
        "# Guardians\n",
        "# Unique Guardians\n",
        "print(student_por.guardian.unique())\n",
        "student_por_clean.loc[student_por_clean['guardian']=='father', 'guardian'] = 3\n",
        "student_por_clean.loc[student_por_clean['guardian']=='mother', 'guardian'] = 2\n",
        "student_por_clean.loc[student_por_clean['guardian']=='other', 'guardian'] = 1\n",
        "print(student_por_clean.guardian.unique())\n",
        "print()\n",
        "\n",
        "\n",
        "# School Support\n",
        "# Unique School Supports\n",
        "print(student_por.schoolsup.unique())\n",
        "student_por_clean.loc[student_por_clean['schoolsup']=='yes', 'schoolsup'] = 2\n",
        "student_por_clean.loc[student_por_clean['schoolsup']=='no', 'schoolsup'] = 1\n",
        "print(student_por_clean.schoolsup.unique())\n",
        "print()\n",
        "\n",
        "# Family Support\n",
        "# Unique Family Supports\n",
        "print(student_por.famsup.unique())\n",
        "student_por_clean.loc[student_por_clean['famsup']=='yes', 'famsup'] = 2\n",
        "student_por_clean.loc[student_por_clean['famsup']=='no', 'famsup'] = 1\n",
        "print(student_por_clean.famsup.unique())\n",
        "print()\n",
        "\n",
        "\n",
        "# Paid\n",
        "# Unique Pays\n",
        "print(student_por.paid.unique())\n",
        "student_por_clean.loc[student_por_clean['paid']=='yes', 'paid'] = 2\n",
        "student_por_clean.loc[student_por_clean['paid']=='no', 'paid'] = 1\n",
        "print(student_por_clean.paid.unique())\n",
        "print()\n",
        "\n",
        "\n",
        "# Activities\n",
        "# Unique Activities\n",
        "print(student_por.activities.unique())\n",
        "student_por_clean.loc[student_por_clean['activities']=='yes', 'activities'] = 2\n",
        "student_por_clean.loc[student_por_clean['activities']=='no', 'activities'] = 1\n",
        "print(student_por_clean.activities.unique())\n",
        "print()\n",
        "\n",
        "\n",
        "# Nursery\n",
        "# Unique Nursery status\n",
        "print(student_por.nursery.unique())\n",
        "student_por_clean.loc[student_por_clean['nursery']=='yes', 'nursery'] = 2\n",
        "student_por_clean.loc[student_por_clean['nursery']=='no', 'nursery'] = 1\n",
        "print(student_por_clean.nursery.unique())\n",
        "print()\n",
        "\n",
        "\n",
        "# Higher Education\n",
        "# Unique Higher Education status\n",
        "print(student_por.higher.unique())\n",
        "student_por_clean.loc[student_por_clean['higher']=='yes', 'higher'] = 2\n",
        "student_por_clean.loc[student_por_clean['higher']=='no', 'higher'] = 1\n",
        "print(student_por_clean.higher.unique())\n",
        "print()\n",
        "\n",
        "# Internet\n",
        "# Unique Internet Status\n",
        "print(student_por.internet.unique())\n",
        "student_por_clean.loc[student_por_clean['internet']=='yes', 'internet'] = 2\n",
        "student_por_clean.loc[student_por_clean['internet']=='no', 'internet'] = 1\n",
        "print(student_por_clean.internet.unique())\n",
        "print()\n",
        "\n",
        "\n",
        "# Relationship\n",
        "# Unique Relationship Status\n",
        "print(student_por.romantic.unique())\n",
        "student_por_clean.loc[student_por_clean['romantic']=='yes', 'romantic'] = 2\n",
        "student_por_clean.loc[student_por_clean['romantic']=='no', 'romantic'] = 1\n",
        "print(student_por_clean.romantic.unique())\n",
        "print()\n",
        "\n"
      ],
      "execution_count": null,
      "outputs": [
        {
          "output_type": "stream",
          "text": [
            "['GP' 'MS']\n",
            "[1 2]\n",
            "\n",
            "['F' 'M']\n",
            "[2 1]\n",
            "\n",
            "['U' 'R']\n",
            "[2 1]\n",
            "\n",
            "['GT3' 'LE3']\n",
            "[2 1]\n",
            "\n",
            "['A' 'T']\n",
            "[1 2]\n",
            "\n",
            "['at_home' 'health' 'other' 'services' 'teacher']\n",
            "[1 3 2 4 5]\n",
            "\n",
            "['teacher' 'other' 'services' 'health' 'at_home']\n",
            "[5 2 4 3 1]\n",
            "\n",
            "['course' 'other' 'home' 'reputation']\n",
            "[3 1 2 4]\n",
            "\n",
            "['mother' 'father' 'other']\n",
            "[2 3 1]\n",
            "\n",
            "['yes' 'no']\n",
            "[2 1]\n",
            "\n",
            "['no' 'yes']\n",
            "[1 2]\n",
            "\n",
            "['no' 'yes']\n",
            "[1 2]\n",
            "\n",
            "['no' 'yes']\n",
            "[1 2]\n",
            "\n",
            "['yes' 'no']\n",
            "[2 1]\n",
            "\n",
            "['yes' 'no']\n",
            "[2 1]\n",
            "\n",
            "['no' 'yes']\n",
            "[1 2]\n",
            "\n",
            "['no' 'yes']\n",
            "[1 2]\n",
            "\n"
          ],
          "name": "stdout"
        }
      ]
    },
    {
      "cell_type": "markdown",
      "metadata": {
        "id": "d1xQM_hzsfr6"
      },
      "source": [
        "### 1> Applying SVR (Support Vector Machine Regression)"
      ]
    },
    {
      "cell_type": "markdown",
      "metadata": {
        "id": "0PA2ddPmsfr7"
      },
      "source": [
        "#### Mathematics Training and Testing Sets"
      ]
    },
    {
      "cell_type": "code",
      "metadata": {
        "id": "3La64qSjsfr8"
      },
      "source": [
        "mat_data_training = student_mat_clean.loc[:380, :'G2']\n",
        "mat_label_training = student_mat_clean.loc[:380, 'G3' :'G3']\n",
        "mat_label_training = mat_label_training.values.flatten()\n",
        "\n",
        "mat_data_testing = student_mat_clean.loc[380:, :'G2']\n",
        "mat_label_testing = student_mat_clean.loc[380:, 'G3' :'G3']\n"
      ],
      "execution_count": null,
      "outputs": []
    },
    {
      "cell_type": "markdown",
      "metadata": {
        "id": "406IviKlsfr8"
      },
      "source": [
        "#### Portuguese Training and Testing Sets"
      ]
    },
    {
      "cell_type": "code",
      "metadata": {
        "id": "NV4QhTcTsfr8"
      },
      "source": [
        "por_data_training = student_por_clean.loc[:380, :'G2']\n",
        "por_label_training = student_por_clean.loc[:380, 'G3' :'G3']\n",
        "por_label_training = por_label_training.values.flatten()\n",
        "\n",
        "por_data_testing = student_por_clean.loc[380:, :'G2']\n",
        "por_label_testing = student_por_clean.loc[380:, 'G3' :'G3']"
      ],
      "execution_count": null,
      "outputs": []
    },
    {
      "cell_type": "markdown",
      "metadata": {
        "id": "GcAxdPNBsfr8"
      },
      "source": [
        "#### SVR Mathematics"
      ]
    },
    {
      "cell_type": "code",
      "metadata": {
        "id": "K-7hhNn2sfr8",
        "outputId": "f7633fe9-b5f4-4ec9-e72c-89ab7760c063"
      },
      "source": [
        "# Defining 1 degree SVM Regression\n",
        "clf_1 = SVR(C=0.2, epsilon=0.2, kernel='poly', degree=1)\n",
        "\n",
        "# Fitting SVR\n",
        "clf_1.fit(mat_data_training, mat_label_training.ravel())\n",
        "\n",
        "# Saving SVR Model\n",
        "check = pickle.dumps(clf_1)\n",
        "\n",
        "# Predicting the list\n",
        "clf_1_results = clf_1.predict(mat_data_testing).tolist()\n",
        "\n",
        "\n",
        "# Root Mean Square Error\n",
        "mse = mean_squared_error(clf_1_results, mat_label_testing)\n",
        "mse_scaled = sqrt(mse)\n",
        "print(mse_scaled)"
      ],
      "execution_count": null,
      "outputs": [
        {
          "output_type": "stream",
          "text": [
            "2.3871997924492248\n"
          ],
          "name": "stdout"
        }
      ]
    },
    {
      "cell_type": "code",
      "metadata": {
        "id": "vrbI5oX4sfr9",
        "outputId": "d88c10d5-1ec6-48a2-ec32-f728211a0dd9"
      },
      "source": [
        "\n",
        "# Predicting the list\n",
        "clf_1_results_check = clf_1.predict(mat_data_testing).tolist()\n",
        "print(clf_1_results_check)"
      ],
      "execution_count": null,
      "outputs": [
        {
          "output_type": "stream",
          "text": [
            "[14.268600637351652, 5.964835357544858, 11.021182648169232, 4.993448919670088, 5.252168620104827, 9.211315360812074, 4.976637682742412, 5.218641546866717, 8.894297791366458, 4.752724133358809, 9.081857169048803, 15.806491925735644, 8.169828640858572, 12.135118165752049, 8.817922672503022]\n"
          ],
          "name": "stdout"
        }
      ]
    },
    {
      "cell_type": "markdown",
      "metadata": {
        "id": "-K5BE2fssfr9"
      },
      "source": [
        "#### SVR Portuguese"
      ]
    },
    {
      "cell_type": "code",
      "metadata": {
        "id": "kCTcXJxTsfr-",
        "outputId": "4f75843f-4757-41c0-f164-b00c530d56f0"
      },
      "source": [
        "# Defining 1 degree SVM Regression\n",
        "clf_2 = SVR(C=0.2, epsilon=0.2, kernel='poly', degree=1)\n",
        "\n",
        "# Fitting SVR\n",
        "clf_2.fit(por_data_training, por_label_training)\n",
        "\n",
        "# Saving SVR Model\n",
        "check = pickle.dumps(clf_2)\n",
        "\n",
        "# Predicting the list\n",
        "clf_2_results = clf_2.predict(por_data_testing).tolist()\n",
        "\n",
        "mse = mean_squared_error(clf_2_results, por_label_testing)\n",
        "mse_scaled = sqrt(mse)\n",
        "print(mse_scaled)"
      ],
      "execution_count": null,
      "outputs": [
        {
          "output_type": "stream",
          "text": [
            "1.6101637568037925\n"
          ],
          "name": "stdout"
        }
      ]
    },
    {
      "cell_type": "markdown",
      "metadata": {
        "id": "2IbAIMaesfr-"
      },
      "source": [
        "### 2> Applying Neural Networks for prediction"
      ]
    },
    {
      "cell_type": "markdown",
      "metadata": {
        "id": "Zl5QwErPsfr-"
      },
      "source": [
        "#### For Mathematics"
      ]
    },
    {
      "cell_type": "code",
      "metadata": {
        "id": "ZhOFAQOysfr-"
      },
      "source": [
        "mlp_ann = MLPRegressor(max_iter=10000)\n",
        "mat_ann = mlp_ann.fit(mat_data_training, mat_label_training)\n",
        "mat_predict_ann = mat_ann.predict(mat_data_testing)"
      ],
      "execution_count": null,
      "outputs": []
    },
    {
      "cell_type": "code",
      "metadata": {
        "id": "UOctOeSYsfr_",
        "outputId": "6ccbb67a-a6a6-42d2-9d0e-1ae984999685"
      },
      "source": [
        "mse2 = mean_squared_error(mat_predict_ann, mat_label_testing)\n",
        "mse2_scaled = sqrt(mse2)\n",
        "print(mse2_scaled)"
      ],
      "execution_count": null,
      "outputs": [
        {
          "output_type": "stream",
          "text": [
            "6.347631795264142\n"
          ],
          "name": "stdout"
        }
      ]
    },
    {
      "cell_type": "markdown",
      "metadata": {
        "id": "4ULn8mgJsfr_"
      },
      "source": [
        "#### For Portuguese"
      ]
    },
    {
      "cell_type": "code",
      "metadata": {
        "id": "4GBvMNcisfr_"
      },
      "source": [
        "por_mlp_ann = MLPRegressor(max_iter=10000)\n",
        "por_ann = por_mlp_ann.fit(por_data_training, por_label_training)\n",
        "por_predict_ann = por_ann.predict(por_data_testing)"
      ],
      "execution_count": null,
      "outputs": []
    },
    {
      "cell_type": "code",
      "metadata": {
        "id": "gyr-EhB3sfr_",
        "outputId": "e9fc47a1-7793-495b-8878-06c008dd1f91"
      },
      "source": [
        "mse2 = mean_squared_error(por_predict_ann, por_label_testing)\n",
        "mse2_scaled = sqrt(mse2)\n",
        "print(mse2_scaled)"
      ],
      "execution_count": null,
      "outputs": [
        {
          "output_type": "stream",
          "text": [
            "4.181582650333204\n"
          ],
          "name": "stdout"
        }
      ]
    },
    {
      "cell_type": "code",
      "metadata": {
        "id": "n8lCj63Wsfr_"
      },
      "source": [
        ""
      ],
      "execution_count": null,
      "outputs": []
    }
  ]
}